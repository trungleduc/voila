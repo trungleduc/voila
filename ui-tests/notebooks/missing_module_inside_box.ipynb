{
 "cells": [
  {
   "cell_type": "code",
   "execution_count": null,
   "id": "6e2208b3-955c-4842-84f0-fe70bf40b0e0",
   "metadata": {},
   "outputs": [],
   "source": [
    "import ipywidgets as widgets\n",
    "from widget_lib import ModuleImportError"
   ]
  },
  {
   "cell_type": "code",
   "execution_count": null,
   "id": "ea0d27ef-8a31-4191-ad09-33e4194db736",
   "metadata": {},
   "outputs": [],
   "source": [
    "widgets.HBox([ModuleImportError(), widgets.Button(description='ModuleImportError')])"
   ]
  },
  {
   "cell_type": "code",
   "execution_count": null,
   "id": "fadff0a0-f4e6-46a4-8272-0ca10f1b077f",
   "metadata": {},
   "outputs": [],
   "source": []
  }
 ],
 "metadata": {
  "kernelspec": {
   "display_name": "Python 3 (ipykernel)",
   "language": "python",
   "name": "python3"
  },
  "language_info": {
   "codemirror_mode": {
    "name": "ipython",
    "version": 3
   },
   "file_extension": ".py",
   "mimetype": "text/x-python",
   "name": "python",
   "nbconvert_exporter": "python",
   "pygments_lexer": "ipython3",
   "version": "3.9.7"
  }
 },
 "nbformat": 4,
 "nbformat_minor": 5
}
