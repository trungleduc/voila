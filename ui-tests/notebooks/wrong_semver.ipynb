{
 "cells": [
  {
   "cell_type": "code",
   "execution_count": null,
   "id": "7c6c297e-f753-47cd-9444-0aea73d17cb4",
   "metadata": {},
   "outputs": [],
   "source": [
    "from widget_lib import WrongVersion\n",
    "import ipywidgets as widgets"
   ]
  },
  {
   "cell_type": "code",
   "execution_count": null,
   "id": "a03447e8-7c38-432d-985c-f89d6e87da60",
   "metadata": {},
   "outputs": [],
   "source": [
    "widgets.Button(description = 'First button')"
   ]
  },
  {
   "cell_type": "code",
   "execution_count": null,
   "id": "dea42641-00d5-4420-9f6f-131110c8e4c8",
   "metadata": {},
   "outputs": [],
   "source": [
    "WrongVersion()"
   ]
  },
  {
   "cell_type": "code",
   "execution_count": null,
   "id": "207cf497-d839-414a-bb4d-94727637268c",
   "metadata": {},
   "outputs": [],
   "source": [
    "widgets.Button(description = 'Second button')"
   ]
  }
 ],
 "metadata": {
  "kernelspec": {
   "display_name": "Python 3 (ipykernel)",
   "language": "python",
   "name": "python3"
  },
  "language_info": {
   "codemirror_mode": {
    "name": "ipython",
    "version": 3
   },
   "file_extension": ".py",
   "mimetype": "text/x-python",
   "name": "python",
   "nbconvert_exporter": "python",
   "pygments_lexer": "ipython3",
   "version": "3.9.7"
  }
 },
 "nbformat": 4,
 "nbformat_minor": 5
}
