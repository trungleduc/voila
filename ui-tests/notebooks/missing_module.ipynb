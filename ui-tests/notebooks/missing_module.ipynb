{
 "cells": [
  {
   "cell_type": "code",
   "execution_count": null,
   "id": "4cefa76b-4ad4-4de1-bd90-d1407ebc5f19",
   "metadata": {},
   "outputs": [],
   "source": [
    "from widget_lib import ModuleImportError\n",
    "import ipywidgets as widgets"
   ]
  },
  {
   "cell_type": "code",
   "execution_count": null,
   "id": "72c9875e-e74d-4068-ae01-5399bd9195a5",
   "metadata": {},
   "outputs": [],
   "source": [
    "widgets.Button(description = 'First button')"
   ]
  },
  {
   "cell_type": "code",
   "execution_count": null,
   "id": "8400bffd-cdb9-4be0-ae67-db2cf3592dfe",
   "metadata": {},
   "outputs": [],
   "source": [
    "ModuleImportError()"
   ]
  },
  {
   "cell_type": "code",
   "execution_count": null,
   "id": "94d6c874-ff20-4090-9611-bee3a49f24e3",
   "metadata": {},
   "outputs": [],
   "source": [
    "widgets.Button(description = 'Second button')"
   ]
  }
 ],
 "metadata": {
  "kernelspec": {
   "display_name": "Python 3 (ipykernel)",
   "language": "python",
   "name": "python3"
  },
  "language_info": {
   "codemirror_mode": {
    "name": "ipython",
    "version": 3
   },
   "file_extension": ".py",
   "mimetype": "text/x-python",
   "name": "python",
   "nbconvert_exporter": "python",
   "pygments_lexer": "ipython3",
   "version": "3.9.7"
  }
 },
 "nbformat": 4,
 "nbformat_minor": 5
}
