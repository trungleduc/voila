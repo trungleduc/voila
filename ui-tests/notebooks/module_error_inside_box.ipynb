{
 "cells": [
  {
   "cell_type": "code",
   "execution_count": null,
   "id": "6e2208b3-955c-4842-84f0-fe70bf40b0e0",
   "metadata": {},
   "outputs": [],
   "source": [
    "import ipywidgets as widgets\n",
    "from widget_lib import ModelInitializationError"
   ]
  },
  {
   "cell_type": "code",
   "execution_count": null,
   "id": "338bbb1f-e4c8-4fa7-98e6-d5ddfa97747c",
   "metadata": {},
   "outputs": [],
   "source": [
    "widgets.HBox([ModelInitializationError(), widgets.Button(description='ModelInitializationError')])"
   ]
  }
 ],
 "metadata": {
  "kernelspec": {
   "display_name": "Python 3 (ipykernel)",
   "language": "python",
   "name": "python3"
  },
  "language_info": {
   "codemirror_mode": {
    "name": "ipython",
    "version": 3
   },
   "file_extension": ".py",
   "mimetype": "text/x-python",
   "name": "python",
   "nbconvert_exporter": "python",
   "pygments_lexer": "ipython3",
   "version": "3.9.7"
  }
 },
 "nbformat": 4,
 "nbformat_minor": 5
}
