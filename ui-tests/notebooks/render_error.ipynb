{
 "cells": [
  {
   "cell_type": "code",
   "execution_count": 1,
   "id": "4cefa76b-4ad4-4de1-bd90-d1407ebc5f19",
   "metadata": {},
   "outputs": [],
   "source": [
    "from widget_lib import ViewRenderError\n",
    "import ipywidgets as widgets"
   ]
  },
  {
   "cell_type": "code",
   "execution_count": 2,
   "id": "72c9875e-e74d-4068-ae01-5399bd9195a5",
   "metadata": {},
   "outputs": [
    {
     "data": {
      "application/vnd.jupyter.widget-view+json": {
       "model_id": "2c9be914d7b041579f10b7bbcb4818d8",
       "version_major": 2,
       "version_minor": 0
      },
      "text/plain": [
       "Button(description='First button', style=ButtonStyle())"
      ]
     },
     "metadata": {},
     "output_type": "display_data"
    }
   ],
   "source": [
    "widgets.Button(description = 'First button')"
   ]
  },
  {
   "cell_type": "code",
   "execution_count": 3,
   "id": "8400bffd-cdb9-4be0-ae67-db2cf3592dfe",
   "metadata": {},
   "outputs": [
    {
     "data": {
      "application/vnd.jupyter.widget-view+json": {
       "model_id": "321e94a973014418ab8442204754955e",
       "version_major": 2,
       "version_minor": 0
      },
      "text/plain": [
       "ViewRenderError()"
      ]
     },
     "metadata": {},
     "output_type": "display_data"
    }
   ],
   "source": [
    "ViewRenderError()"
   ]
  },
  {
   "cell_type": "code",
   "execution_count": 4,
   "id": "94d6c874-ff20-4090-9611-bee3a49f24e3",
   "metadata": {},
   "outputs": [
    {
     "data": {
      "application/vnd.jupyter.widget-view+json": {
       "model_id": "09e6924c6f4b41449f34a17a6b77bac0",
       "version_major": 2,
       "version_minor": 0
      },
      "text/plain": [
       "Button(description='Second button', style=ButtonStyle())"
      ]
     },
     "metadata": {},
     "output_type": "display_data"
    }
   ],
   "source": [
    "widgets.Button(description = 'Second button')"
   ]
  }
 ],
 "metadata": {
  "kernelspec": {
   "display_name": "Python 3 (ipykernel)",
   "language": "python",
   "name": "python3"
  },
  "language_info": {
   "codemirror_mode": {
    "name": "ipython",
    "version": 3
   },
   "file_extension": ".py",
   "mimetype": "text/x-python",
   "name": "python",
   "nbconvert_exporter": "python",
   "pygments_lexer": "ipython3",
   "version": "3.9.7"
  }
 },
 "nbformat": 4,
 "nbformat_minor": 5
}
